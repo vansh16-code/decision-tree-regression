{
 "cells": [
  {
   "cell_type": "code",
   "execution_count": null,
   "id": "9fd51a00",
   "metadata": {},
   "outputs": [
    {
     "name": "stdout",
     "output_type": "stream",
     "text": [
      "Predictions:  [208500. 181500. 223500. 140000. 250000.]\n",
      "Actual:       [208500 181500 223500 140000 250000]\n"
     ]
    }
   ],
   "source": [
    "import pandas as pd\n",
    "from sklearn.tree import DecisionTreeRegressor\n",
    "\n",
    "\n",
    "data = pd.read_csv(\"train.csv\")\n",
    "y = data[\"SalePrice\"]\n",
    "\n",
    "\n",
    "features = [\"LotArea\", \"YearBuilt\", \"1stFlrSF\", \"2ndFlrSF\", \"FullBath\", \"BedroomAbvGr\"]\n",
    "X = data[features]\n",
    "\n",
    "\n",
    "model = DecisionTreeRegressor(random_state=1)\n",
    "model.fit(X, y)\n",
    "\n",
    "\n",
    "predictions = model.predict(X)\n",
    "\n",
    "\n",
    "print(\"Predictions: \", predictions[:5])\n",
    "print(\"Actual:      \", y.head().values)\n"
   ]
  },
  {
   "cell_type": "markdown",
   "id": "6d6f6939",
   "metadata": {},
   "source": [
    "VALIDATING THE MODEL ( MEAN ABSOLUTE ERROR , TRAIN_TEST_SPLIT) \n"
   ]
  },
  {
   "cell_type": "code",
   "execution_count": 5,
   "id": "9fbf2a5f",
   "metadata": {},
   "outputs": [
    {
     "name": "stdout",
     "output_type": "stream",
     "text": [
      " Validation MAE : 28548.76712328767\n"
     ]
    }
   ],
   "source": [
    "from sklearn.model_selection import train_test_split\n",
    "from sklearn.metrics import mean_absolute_error\n",
    "from sklearn.tree import DecisionTreeRegressor\n",
    "\n",
    "train_X, val_X, train_y, val_y = train_test_split(X,y,random_state=1)\n",
    "\n",
    "model = DecisionTreeRegressor(random_state=1)\n",
    "model.fit(train_X,train_y)\n",
    "\n",
    "val_predictions = model.predict(val_X)\n",
    "\n",
    "val_mae = mean_absolute_error(val_y,val_predictions)\n",
    "print(\" Validation MAE :\", val_mae)\n"
   ]
  }
 ],
 "metadata": {
  "kernelspec": {
   "display_name": "env",
   "language": "python",
   "name": "python3"
  },
  "language_info": {
   "codemirror_mode": {
    "name": "ipython",
    "version": 3
   },
   "file_extension": ".py",
   "mimetype": "text/x-python",
   "name": "python",
   "nbconvert_exporter": "python",
   "pygments_lexer": "ipython3",
   "version": "3.13.1"
  }
 },
 "nbformat": 4,
 "nbformat_minor": 5
}
