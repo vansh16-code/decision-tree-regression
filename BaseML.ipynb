{
 "cells": [
  {
   "cell_type": "code",
   "execution_count": 3,
   "id": "9fd51a00",
   "metadata": {},
   "outputs": [
    {
     "name": "stdout",
     "output_type": "stream",
     "text": [
      "Predictions:  [208500. 181500. 223500. 140000. 250000.]\n",
      "Actual:       [208500 181500 223500 140000 250000]\n"
     ]
    }
   ],
   "source": [
    "import pandas as pd\n",
    "from sklearn.tree import DecisionTreeRegressor\n",
    "\n",
    "\n",
    "data = pd.read_csv(\"train.csv\")\n",
    "y = data[\"SalePrice\"]\n",
    "\n",
    "\n",
    "features = [\"LotArea\", \"YearBuilt\", \"1stFlrSF\", \"2ndFlrSF\", \"FullBath\", \"BedroomAbvGr\"]\n",
    "X = data[features]\n",
    "\n",
    "\n",
    "model = DecisionTreeRegressor(random_state=1)\n",
    "model.fit(X, y)\n",
    "\n",
    "\n",
    "predictions = model.predict(X)\n",
    "\n",
    "\n",
    "print(\"Predictions: \", predictions[:5])\n",
    "print(\"Actual:      \", y.head().values)\n"
   ]
  },
  {
   "cell_type": "markdown",
   "id": "6d6f6939",
   "metadata": {},
   "source": [
    "VALIDATING THE MODEL ( MEAN ABSOLUTE ERROR , TRAIN_TEST_SPLIT) \n"
   ]
  },
  {
   "cell_type": "code",
   "execution_count": 5,
   "id": "9fbf2a5f",
   "metadata": {},
   "outputs": [
    {
     "name": "stdout",
     "output_type": "stream",
     "text": [
      " Validation MAE : 28548.76712328767\n"
     ]
    }
   ],
   "source": [
    "from sklearn.model_selection import train_test_split\n",
    "from sklearn.metrics import mean_absolute_error\n",
    "from sklearn.tree import DecisionTreeRegressor\n",
    "\n",
    "train_X, val_X, train_y, val_y = train_test_split(X,y,random_state=1)\n",
    "\n",
    "model = DecisionTreeRegressor(random_state=1)\n",
    "model.fit(train_X,train_y)\n",
    "\n",
    "val_predictions = model.predict(val_X)\n",
    "\n",
    "val_mae = mean_absolute_error(val_y,val_predictions)\n",
    "print(\" Validation MAE :\", val_mae)\n"
   ]
  },
  {
   "cell_type": "markdown",
   "id": "2fa1bece",
   "metadata": {},
   "source": [
    "Tuning Model Complexity – Handling Overfitting & Underfitting"
   ]
  },
  {
   "cell_type": "code",
   "execution_count": 4,
   "id": "52cd5f61",
   "metadata": {},
   "outputs": [
    {
     "name": "stdout",
     "output_type": "stream",
     "text": [
      "Tuning tree sizes...\n",
      "\n",
      "Max leaf nodes: 5 \t MAE: 35044.51\n",
      "Max leaf nodes: 25 \t MAE: 28903.02\n",
      "Max leaf nodes: 50 \t MAE: 26642.62\n",
      "Max leaf nodes: 100 \t MAE: 25410.89\n",
      "Max leaf nodes: 250 \t MAE: 26346.04\n",
      "Max leaf nodes: 500 \t MAE: 27223.88\n",
      "\n",
      "✅ Best tree size: 100 (Lowest MAE: 25410.89)\n",
      "\n",
      "🎯 Final model trained on full data.\n"
     ]
    }
   ],
   "source": [
    "import pandas as pd\n",
    "from sklearn.model_selection import train_test_split\n",
    "from sklearn.tree import DecisionTreeRegressor\n",
    "from sklearn.metrics import mean_absolute_error\n",
    "\n",
    "\n",
    "data = pd.read_csv(\"train.csv\")\n",
    "\n",
    "y = data[\"SalePrice\"]\n",
    "features = [\"LotArea\", \"YearBuilt\", \"1stFlrSF\", \"2ndFlrSF\", \"FullBath\", \"BedroomAbvGr\"]\n",
    "X = data[features]\n",
    "\n",
    "\n",
    "train_X, val_X, train_y, val_y = train_test_split(X, y, random_state=1)\n",
    "\n",
    "# Step 4: Function to get MAE for different tree sizes\n",
    "def get_mae(max_leaf_nodes, train_X, val_X, train_y, val_y):\n",
    "    model = DecisionTreeRegressor(max_leaf_nodes=max_leaf_nodes, random_state=1)\n",
    "    model.fit(train_X, train_y)\n",
    "    preds_val = model.predict(val_X)\n",
    "    mae = mean_absolute_error(val_y, preds_val)\n",
    "    return mae\n",
    "\n",
    "# Step 5: Try different values for max_leaf_nodes\n",
    "candidate_max_leaf_nodes = [5, 25, 50, 100, 250, 500]\n",
    "mae_values = {}\n",
    "\n",
    "print(\"Tuning tree sizes...\\n\")\n",
    "for max_leaf_nodes in candidate_max_leaf_nodes:\n",
    "    mae = get_mae(max_leaf_nodes, train_X, val_X, train_y, val_y)\n",
    "    mae_values[max_leaf_nodes] = mae\n",
    "    print(f\"Max leaf nodes: {max_leaf_nodes} \\t MAE: {mae:.2f}\")\n",
    "\n",
    "# Step 6: Choose the best tree size\n",
    "best_tree_size = min(mae_values, key=mae_values.get)\n",
    "print(f\"\\n✅ Best tree size: {best_tree_size} (Lowest MAE: {mae_values[best_tree_size]:.2f})\")\n",
    "\n",
    "# Step 7: Train final model on full data\n",
    "final_model = DecisionTreeRegressor(max_leaf_nodes=best_tree_size, random_state=1)\n",
    "final_model.fit(X, y)\n",
    "\n",
    "print(\"\\n🎯 Final model trained on full data.\")\n"
   ]
  }
 ],
 "metadata": {
  "kernelspec": {
   "display_name": "env",
   "language": "python",
   "name": "python3"
  },
  "language_info": {
   "codemirror_mode": {
    "name": "ipython",
    "version": 3
   },
   "file_extension": ".py",
   "mimetype": "text/x-python",
   "name": "python",
   "nbconvert_exporter": "python",
   "pygments_lexer": "ipython3",
   "version": "3.13.1"
  }
 },
 "nbformat": 4,
 "nbformat_minor": 5
}
